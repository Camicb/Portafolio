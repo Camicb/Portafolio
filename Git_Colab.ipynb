{
  "nbformat": 4,
  "nbformat_minor": 0,
  "metadata": {
    "colab": {
      "name": "Git-Colab.ipynb",
      "private_outputs": true,
      "provenance": [],
      "collapsed_sections": [],
      "authorship_tag": "ABX9TyM8HYR6BN6l7alTW1if9L/h",
      "include_colab_link": true
    },
    "kernelspec": {
      "name": "python3",
      "display_name": "Python 3"
    },
    "language_info": {
      "name": "python"
    }
  },
  "cells": [
    {
      "cell_type": "markdown",
      "metadata": {
        "id": "view-in-github",
        "colab_type": "text"
      },
      "source": [
        "<a href=\"https://colab.research.google.com/github/Camicb/Portafolio/blob/main/Git_Colab.ipynb\" target=\"_parent\"><img src=\"https://colab.research.google.com/assets/colab-badge.svg\" alt=\"Open In Colab\"/></a>"
      ]
    },
    {
      "cell_type": "markdown",
      "metadata": {
        "id": "7NsQA8mugA7n"
      },
      "source": [
        "#Local repo"
      ]
    },
    {
      "cell_type": "code",
      "metadata": {
        "id": "ULqnzl3bofH5"
      },
      "source": [
        "!git init"
      ],
      "execution_count": null,
      "outputs": []
    },
    {
      "cell_type": "code",
      "metadata": {
        "id": "TIzvbZ3YnVXZ"
      },
      "source": [
        "!mkdir -p udacity-git-course/new-git-project"
      ],
      "execution_count": null,
      "outputs": []
    },
    {
      "cell_type": "code",
      "metadata": {
        "id": "aS0sykznpYXA"
      },
      "source": [
        "%cd /content/udacity-git-course/new-git-project\n",
        "!git clone https://github.com/udacity/course-git-blog-project"
      ],
      "execution_count": null,
      "outputs": []
    },
    {
      "cell_type": "code",
      "metadata": {
        "id": "cyHjPuXRaXZl"
      },
      "source": [
        "%cd /content/udacity-git-course/new-git-project/course-git-blog-project\n",
        "!git status"
      ],
      "execution_count": null,
      "outputs": []
    },
    {
      "cell_type": "code",
      "metadata": {
        "id": "64xWw5XLNgsX"
      },
      "source": [
        "!git log"
      ],
      "execution_count": null,
      "outputs": []
    },
    {
      "cell_type": "code",
      "metadata": {
        "id": "fP02uYzp6oUe"
      },
      "source": [
        "!git log --oneline"
      ],
      "execution_count": null,
      "outputs": []
    },
    {
      "cell_type": "code",
      "metadata": {
        "id": "K7HgHhsd7GZq"
      },
      "source": [
        "!git log --stat"
      ],
      "execution_count": null,
      "outputs": []
    },
    {
      "cell_type": "code",
      "metadata": {
        "id": "ld1QfggFWH7q"
      },
      "source": [
        "!git show"
      ],
      "execution_count": null,
      "outputs": []
    },
    {
      "cell_type": "code",
      "metadata": {
        "id": "eNLL0iODTNna"
      },
      "source": [
        "%cd /content/udacity-git-course/new-git-project\n",
        "!git init"
      ],
      "execution_count": null,
      "outputs": []
    },
    {
      "cell_type": "code",
      "metadata": {
        "id": "QUxYkpDqXlFs"
      },
      "source": [
        "!git status"
      ],
      "execution_count": null,
      "outputs": []
    },
    {
      "cell_type": "code",
      "metadata": {
        "id": "XFMdLUNophFT"
      },
      "source": [
        "%%writefile index.html\n",
        "<!doctype html>\n",
        "<html lang=\"en\">\n",
        "<head>\n",
        "    <meta charset=\"utf-8\">\n",
        "    <title>Blog Project</title>\n",
        "    <meta name=\"viewport\" content=\"width=device-width, initial-scale=1\">\n",
        "    <meta name=\"description\" content=\"\">\n",
        "    <link rel=\"stylesheet\" href=\"css/app.css\">\n",
        "</head>\n",
        "<body>\n",
        "\n",
        "    <script src=\"js/app.js\"></script>\n",
        "</body>\n",
        "</html>"
      ],
      "execution_count": null,
      "outputs": []
    },
    {
      "cell_type": "code",
      "metadata": {
        "id": "KxGTxJCMq1gU"
      },
      "source": [
        "!git status"
      ],
      "execution_count": null,
      "outputs": []
    },
    {
      "cell_type": "code",
      "metadata": {
        "id": "NZl6DYGDq1dm"
      },
      "source": [
        "!git add index.html  #add to staging"
      ],
      "execution_count": null,
      "outputs": []
    },
    {
      "cell_type": "code",
      "metadata": {
        "id": "fNwJAT2Tq1bB"
      },
      "source": [
        "#!git add . # add everything"
      ],
      "execution_count": null,
      "outputs": []
    },
    {
      "cell_type": "code",
      "metadata": {
        "id": "DCjtGNhAv9Jr"
      },
      "source": [
        "#!git rm -f --cached course-git-blog-project"
      ],
      "execution_count": null,
      "outputs": []
    },
    {
      "cell_type": "code",
      "metadata": {
        "id": "sYrV3e9avviS"
      },
      "source": [
        "!git status"
      ],
      "execution_count": null,
      "outputs": []
    },
    {
      "cell_type": "code",
      "metadata": {
        "id": "-lVeKkL-wyZK"
      },
      "source": [
        "!git commit -m 'testing Git'  # add to local repo"
      ],
      "execution_count": null,
      "outputs": []
    },
    {
      "cell_type": "code",
      "metadata": {
        "id": "PdxwicNuq1X6"
      },
      "source": [
        "!git diff"
      ],
      "execution_count": null,
      "outputs": []
    },
    {
      "cell_type": "code",
      "metadata": {
        "id": "QjYwAo8TCfCN"
      },
      "source": [
        "!git branch  #branch status"
      ],
      "execution_count": null,
      "outputs": []
    },
    {
      "cell_type": "code",
      "metadata": {
        "id": "OQYAUX2JP9xx"
      },
      "source": [
        "!git branch sidebar  # create branch"
      ],
      "execution_count": null,
      "outputs": []
    },
    {
      "cell_type": "code",
      "metadata": {
        "id": "o8l3jLWQUnKZ"
      },
      "source": [
        "!git checkout sidebar #change to this branch y arrastra cambios"
      ],
      "execution_count": null,
      "outputs": []
    },
    {
      "cell_type": "code",
      "metadata": {
        "id": "S51FQA81q1Rc"
      },
      "source": [
        "!git log --oneline --decorate"
      ],
      "execution_count": null,
      "outputs": []
    },
    {
      "cell_type": "code",
      "metadata": {
        "id": "TJj-lAJFWziR"
      },
      "source": [
        "!mkdir css\n",
        "!mkdir js"
      ],
      "execution_count": null,
      "outputs": []
    },
    {
      "cell_type": "code",
      "metadata": {
        "id": "K3RuGr9NUtA9"
      },
      "source": [
        "%%writefile app.css\n",
        "body {\n",
        "    background-color: #00cae4;\n",
        "}"
      ],
      "execution_count": null,
      "outputs": []
    },
    {
      "cell_type": "code",
      "metadata": {
        "id": "VoCYorR5Us5_"
      },
      "source": [
        "!git checkout main\n",
        "!git add /content/udacity-git-course/new-git-project/css/app.css\n",
        "!git commit -m 'Add Page Color'"
      ],
      "execution_count": null,
      "outputs": []
    },
    {
      "cell_type": "code",
      "metadata": {
        "id": "MhvgVJO4ZWvm"
      },
      "source": [
        "!git log --oneline --decorate --graph --all # muestra todas las ramas y sus commit"
      ],
      "execution_count": null,
      "outputs": []
    },
    {
      "cell_type": "code",
      "metadata": {
        "id": "7VyANzaoAot3"
      },
      "source": [
        "!git push origin main"
      ],
      "execution_count": null,
      "outputs": []
    },
    {
      "cell_type": "markdown",
      "metadata": {
        "id": "3UmiSSGfgPSA"
      },
      "source": [
        "#Remote repo"
      ]
    },
    {
      "cell_type": "markdown",
      "metadata": {
        "id": "Ad6xVeTNqfjl"
      },
      "source": [
        "**Set Environment Variables**"
      ]
    },
    {
      "cell_type": "code",
      "metadata": {
        "id": "gOTy6CvHqSGj"
      },
      "source": [
        "#@title Enter the repository name for the project:\n",
        "\n",
        "REPO_NAME= \"\" #@param {type:\"string\"}"
      ],
      "execution_count": null,
      "outputs": []
    },
    {
      "cell_type": "code",
      "metadata": {
        "id": "Fe2NjaH4qVhn"
      },
      "source": [
        "#@title Enter the repository name for the project:\n",
        "\n",
        "REPO_OWNER= \"\" #@param {type:\"string\"}"
      ],
      "execution_count": null,
      "outputs": []
    },
    {
      "cell_type": "code",
      "metadata": {
        "id": "NDl20cc6qTpO"
      },
      "source": [
        "#@title Enter the username of your GitHub account:\n",
        "\n",
        "USER_NAME = \"\" #@param {type:\"string\"}"
      ],
      "execution_count": null,
      "outputs": []
    },
    {
      "cell_type": "code",
      "metadata": {
        "id": "flzFojIaqYC1"
      },
      "source": [
        "#@title Enter the email for your GitHub account:\n",
        "\n",
        "EMAIL = \"\" #@param {type:\"string\"}"
      ],
      "execution_count": null,
      "outputs": []
    },
    {
      "cell_type": "code",
      "metadata": {
        "id": "Fkwuy4sNsCgj"
      },
      "source": [
        "#@title Enter the token for your GitHub account:\n",
        "TOKEN =''"
      ],
      "execution_count": null,
      "outputs": []
    },
    {
      "cell_type": "markdown",
      "metadata": {
        "id": "b6ut9_fIqgWH"
      },
      "source": [
        "**Configure Git**"
      ]
    },
    {
      "cell_type": "code",
      "metadata": {
        "id": "JBdTttdntohI"
      },
      "source": [
        "!git config --global user.email {EMAIL}\n",
        "!git config --global user.name {USER_NAME}"
      ],
      "execution_count": null,
      "outputs": []
    },
    {
      "cell_type": "code",
      "metadata": {
        "id": "raZOn6T81YrI"
      },
      "source": [
        "!git init"
      ],
      "execution_count": null,
      "outputs": []
    },
    {
      "cell_type": "code",
      "metadata": {
        "id": "t13ywP4ujdOQ"
      },
      "source": [
        "!git clone https://github.com/{REPO_OWNER}/{REPO_NAME}.git\n",
        "%cd {REPO_NAME}"
      ],
      "execution_count": null,
      "outputs": []
    },
    {
      "cell_type": "code",
      "metadata": {
        "id": "q2eGbecj3Act"
      },
      "source": [
        "!git remote -v"
      ],
      "execution_count": null,
      "outputs": []
    },
    {
      "cell_type": "code",
      "metadata": {
        "id": "PqMp_VmjgxkG"
      },
      "source": [
        "!mkdir test\n",
        "%cd /content/{REPO_NAME}/test"
      ],
      "execution_count": null,
      "outputs": []
    },
    {
      "cell_type": "code",
      "metadata": {
        "id": "2E-Rzo9JjNtH"
      },
      "source": [
        "%%writefile  prueba.txt\n",
        "Esto es otra prueba más"
      ],
      "execution_count": null,
      "outputs": []
    },
    {
      "cell_type": "code",
      "metadata": {
        "id": "8t8NbIzD4iaC"
      },
      "source": [
        "!git branch test-branch"
      ],
      "execution_count": null,
      "outputs": []
    },
    {
      "cell_type": "code",
      "metadata": {
        "id": "EFTIxKVg4q0B"
      },
      "source": [
        "!git checkout test-branch"
      ],
      "execution_count": null,
      "outputs": []
    },
    {
      "cell_type": "code",
      "metadata": {
        "id": "k5MRt_Gll1D5"
      },
      "source": [
        "!git add prueba.txt"
      ],
      "execution_count": null,
      "outputs": []
    },
    {
      "cell_type": "code",
      "metadata": {
        "id": "LENV7OzBrJ0G"
      },
      "source": [
        "!git status"
      ],
      "execution_count": null,
      "outputs": []
    },
    {
      "cell_type": "code",
      "metadata": {
        "id": "fZMKsf0TmHQp"
      },
      "source": [
        "!git commit -m 'testing github'"
      ],
      "execution_count": null,
      "outputs": []
    },
    {
      "cell_type": "code",
      "metadata": {
        "id": "wHq960DIq3w_"
      },
      "source": [
        "!git show"
      ],
      "execution_count": null,
      "outputs": []
    },
    {
      "cell_type": "code",
      "metadata": {
        "id": "O34c8ncRqvai"
      },
      "source": [
        "!git push https://{TOKEN}@github.com/{USER_NAME}/{REPO_NAME}.git"
      ],
      "execution_count": null,
      "outputs": []
    }
  ]
}